{
 "cells": [
  {
   "cell_type": "markdown",
   "metadata": {},
   "source": [
    "# List complihension"
   ]
  },
  {
   "cell_type": "code",
   "execution_count": 64,
   "metadata": {},
   "outputs": [
    {
     "name": "stdout",
     "output_type": "stream",
     "text": [
      "hello world\n"
     ]
    }
   ],
   "source": [
    "print(\"hello world\")"
   ]
  },
  {
   "cell_type": "code",
   "execution_count": 2,
   "metadata": {},
   "outputs": [
    {
     "name": "stdout",
     "output_type": "stream",
     "text": [
      "Twinkle\n",
      "\t twinkle\n",
      "\t little star\n",
      "\t How I wonder what you are! Up above the world so high\n",
      "\t Like a diamond in the sky. Twinkle\n",
      "\t twinkle\n",
      "\t little star\n",
      "\t How I wonder what you are\n"
     ]
    }
   ],
   "source": [
    "def convertString(string):\n",
    "    # xử lý string trong thân function này\n",
    "    words = string.split(\",\")\n",
    "    # xử lý thêm nhé\n",
    "    return \"\\n\\t\".join(words)\n",
    "\n",
    "s = \"Twinkle, twinkle, little star, How I wonder what you are! Up above the world so high, Like a \\\n",
    "     diamond in the sky. Twinkle, twinkle, little star, How I wonder what you are\"\n",
    "print(convertString(s))"
   ]
  }
 ],
 "metadata": {
  "kernelspec": {
   "display_name": "Python 3.10.6 64-bit",
   "language": "python",
   "name": "python3"
  },
  "language_info": {
   "codemirror_mode": {
    "name": "ipython",
    "version": 3
   },
   "file_extension": ".py",
   "mimetype": "text/x-python",
   "name": "python",
   "nbconvert_exporter": "python",
   "pygments_lexer": "ipython3",
   "version": "3.10.8"
  },
  "orig_nbformat": 4,
  "vscode": {
   "interpreter": {
    "hash": "39bb5f040324cd5bdfb04e9991e86fae456ce941224562c87366ea4f879b35e3"
   }
  }
 },
 "nbformat": 4,
 "nbformat_minor": 2
}
