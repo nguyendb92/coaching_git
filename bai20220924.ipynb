{
 "cells": [
  {
   "cell_type": "code",
   "execution_count": null,
   "metadata": {},
   "outputs": [],
   "source": []
  }
 ],
 "metadata": {
  "kernelspec": {
   "display_name": "Python 3.10.6 ('venv': venv)",
   "language": "python",
   "name": "python3"
  },
  "language_info": {
   "name": "python",
   "version": "3.10.8"
  },
  "orig_nbformat": 4,
  "vscode": {
   "interpreter": {
    "hash": "7169572a15fa8d22ead9116e2848ac5dc57ee85dc6fa45f237bc276aaceb7b85"
   }
  }
 },
 "nbformat": 4,
 "nbformat_minor": 2
}
